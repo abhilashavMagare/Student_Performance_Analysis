{
 "cells": [
  {
   "cell_type": "code",
   "execution_count": 144,
   "id": "eb6ce925-f7fb-4d44-ba85-ce93d8056c73",
   "metadata": {},
   "outputs": [],
   "source": [
    "import pandas as pd\n",
    "import numpy as np\n",
    "\n",
    "academic_data = pd.read_csv('A:/Projects/Students/academic_data.csv')\n",
    "behavioural_data = pd.read_csv(\"A:/Projects/Students/behavioral_data.csv\")\n",
    "extracurricular_data = pd.read_csv(\"A:/Projects/Students/extracurricular_data.csv\")"
   ]
  },
  {
   "cell_type": "code",
   "execution_count": 78,
   "id": "6b9aa236-c015-456c-af5a-c013f7000d35",
   "metadata": {
    "tags": []
   },
   "outputs": [],
   "source": [
    "#academic_data.head(5)\n",
    "#behavioural_data.head(5)\n",
    "#extracurricular_data.head(5)\n"
   ]
  },
  {
   "cell_type": "code",
   "execution_count": 157,
   "id": "bc2a9947-104b-4e82-8a0d-c05d0cbf4d42",
   "metadata": {
    "tags": []
   },
   "outputs": [
    {
     "data": {
      "text/html": [
       "<div>\n",
       "<style scoped>\n",
       "    .dataframe tbody tr th:only-of-type {\n",
       "        vertical-align: middle;\n",
       "    }\n",
       "\n",
       "    .dataframe tbody tr th {\n",
       "        vertical-align: top;\n",
       "    }\n",
       "\n",
       "    .dataframe thead th {\n",
       "        text-align: right;\n",
       "    }\n",
       "</style>\n",
       "<table border=\"1\" class=\"dataframe\">\n",
       "  <thead>\n",
       "    <tr style=\"text-align: right;\">\n",
       "      <th></th>\n",
       "      <th>Student_ID</th>\n",
       "      <th>Grades</th>\n",
       "      <th>Attendance</th>\n",
       "      <th>Homework_Completion</th>\n",
       "      <th>Classroom_Attention</th>\n",
       "      <th>Interaction_With_Peers</th>\n",
       "      <th>Discipline_Incidents</th>\n",
       "      <th>Hours_Per_Week</th>\n",
       "      <th>Avg_Grade</th>\n",
       "      <th>Final_Grades</th>\n",
       "    </tr>\n",
       "  </thead>\n",
       "  <tbody>\n",
       "    <tr>\n",
       "      <th>0</th>\n",
       "      <td>1</td>\n",
       "      <td>79.967142</td>\n",
       "      <td>79.187065</td>\n",
       "      <td>60.953440</td>\n",
       "      <td>3.041588</td>\n",
       "      <td>3.728498</td>\n",
       "      <td>0</td>\n",
       "      <td>1.296422</td>\n",
       "      <td>32.596308</td>\n",
       "      <td>D (Can Do Better)</td>\n",
       "    </tr>\n",
       "    <tr>\n",
       "      <th>1</th>\n",
       "      <td>2</td>\n",
       "      <td>73.617357</td>\n",
       "      <td>77.614196</td>\n",
       "      <td>51.836068</td>\n",
       "      <td>6.462168</td>\n",
       "      <td>3.930923</td>\n",
       "      <td>1</td>\n",
       "      <td>6.141452</td>\n",
       "      <td>31.514595</td>\n",
       "      <td>D (Can Do Better)</td>\n",
       "    </tr>\n",
       "    <tr>\n",
       "      <th>2</th>\n",
       "      <td>3</td>\n",
       "      <td>81.476885</td>\n",
       "      <td>90.910756</td>\n",
       "      <td>55.401288</td>\n",
       "      <td>6.975545</td>\n",
       "      <td>7.226348</td>\n",
       "      <td>0</td>\n",
       "      <td>1.171350</td>\n",
       "      <td>34.737453</td>\n",
       "      <td>D (Can Do Better)</td>\n",
       "    </tr>\n",
       "    <tr>\n",
       "      <th>3</th>\n",
       "      <td>4</td>\n",
       "      <td>90.230299</td>\n",
       "      <td>92.661893</td>\n",
       "      <td>66.943032</td>\n",
       "      <td>10.000000</td>\n",
       "      <td>6.770939</td>\n",
       "      <td>0</td>\n",
       "      <td>7.596684</td>\n",
       "      <td>39.171835</td>\n",
       "      <td>A (Excellent)</td>\n",
       "    </tr>\n",
       "    <tr>\n",
       "      <th>4</th>\n",
       "      <td>5</td>\n",
       "      <td>72.658466</td>\n",
       "      <td>75.789654</td>\n",
       "      <td>90.129284</td>\n",
       "      <td>8.914468</td>\n",
       "      <td>5.431420</td>\n",
       "      <td>1</td>\n",
       "      <td>7.324185</td>\n",
       "      <td>37.321068</td>\n",
       "      <td>B (Very Good)</td>\n",
       "    </tr>\n",
       "  </tbody>\n",
       "</table>\n",
       "</div>"
      ],
      "text/plain": [
       "   Student_ID     Grades  Attendance  Homework_Completion  \\\n",
       "0           1  79.967142   79.187065            60.953440   \n",
       "1           2  73.617357   77.614196            51.836068   \n",
       "2           3  81.476885   90.910756            55.401288   \n",
       "3           4  90.230299   92.661893            66.943032   \n",
       "4           5  72.658466   75.789654            90.129284   \n",
       "\n",
       "   Classroom_Attention  Interaction_With_Peers  Discipline_Incidents  \\\n",
       "0             3.041588                3.728498                     0   \n",
       "1             6.462168                3.930923                     1   \n",
       "2             6.975545                7.226348                     0   \n",
       "3            10.000000                6.770939                     0   \n",
       "4             8.914468                5.431420                     1   \n",
       "\n",
       "   Hours_Per_Week  Avg_Grade       Final_Grades  \n",
       "0        1.296422  32.596308  D (Can Do Better)  \n",
       "1        6.141452  31.514595  D (Can Do Better)  \n",
       "2        1.171350  34.737453  D (Can Do Better)  \n",
       "3        7.596684  39.171835      A (Excellent)  \n",
       "4        7.324185  37.321068      B (Very Good)  "
      ]
     },
     "execution_count": 157,
     "metadata": {},
     "output_type": "execute_result"
    }
   ],
   "source": [
    "#academic_data.isnull().sum()\n",
    "#behavioural_data.isnull().sum()\n",
    "#extracurricular_data.isnull().sum()\n",
    "\n",
    "#merging the datasets and Aggregating the hours per week spent by the students in different activities\n",
    "merged_data = pd.merge(academic_data, behavioural_data, on = 'Student_ID' )\n",
    "\n",
    "extracurricular2_data= extracurricular_data.groupby('Student_ID').agg({'Hours_Per_Week':'sum'})\n",
    "\n",
    "Merged_data = pd.merge(merged_data, extracurricular2_data, on='Student_ID')\n",
    "\n",
    "#Merged_data.head(7)\n",
    "\n",
    "#Merged_data.describe()\n",
    "\n",
    "\n",
    "# Calculate the mean across specified columns for each student\n",
    "Avg_Grade = Merged_data[['Grades', 'Attendance', 'Homework_Completion', 'Classroom_Attention', 'Interaction_With_Peers', 'Discipline_Incidents', 'Hours_Per_Week']].mean(axis=1)\n",
    "\n",
    "# Add the calculated mean to the DataFrame\n",
    "Merged_data['Avg_Grade'] = Avg_Grade\n",
    "\n",
    "#Merged_data.head(10)\n",
    "#Merged_data['Avg_Grade'].describe()\n",
    "\n",
    "#Assigning Avg_Grade the Categorial Grades for visualization\n",
    "def final_grade(Avg_Grade):\n",
    "    if Avg_Grade >=  43.757769:\n",
    "        return 'O (Outstanding)'\n",
    "    elif ((Avg_Grade < 43.757769)and(Avg_Grade >= 38.786632)):\n",
    "        return 'A (Excellent)'\n",
    "    elif ((Avg_Grade < 38.786632)and(Avg_Grade >= 36.652989)):\n",
    "        return 'B (Very Good)'\n",
    "    elif ((Avg_Grade < 36.652989)and(Avg_Grade >= 34.747342)):\n",
    "        return 'C (Good)'\n",
    "    elif ((Avg_Grade < 34.747342)and(Avg_Grade >= 29.255739)):\n",
    "        return 'D (Can Do Better)'\n",
    "    else:\n",
    "        return 'E (Poor Performance)'\n",
    "\n",
    "#Creating a new column in named Final_Grades in Merged_data dataset using the function written above\n",
    "Merged_data['Final_Grades']= Merged_data['Avg_Grade'].apply(final_grade)\n",
    "\n",
    "Merged_data.head(5)\n",
    "\n",
    "        \n"
   ]
  },
  {
   "cell_type": "code",
   "execution_count": 158,
   "id": "7c2e4f8b-f471-4fef-8ab3-4b4d43b11926",
   "metadata": {
    "tags": []
   },
   "outputs": [
    {
     "data": {
      "text/html": [
       "<style>#sk-container-id-16 {color: black;}#sk-container-id-16 pre{padding: 0;}#sk-container-id-16 div.sk-toggleable {background-color: white;}#sk-container-id-16 label.sk-toggleable__label {cursor: pointer;display: block;width: 100%;margin-bottom: 0;padding: 0.3em;box-sizing: border-box;text-align: center;}#sk-container-id-16 label.sk-toggleable__label-arrow:before {content: \"▸\";float: left;margin-right: 0.25em;color: #696969;}#sk-container-id-16 label.sk-toggleable__label-arrow:hover:before {color: black;}#sk-container-id-16 div.sk-estimator:hover label.sk-toggleable__label-arrow:before {color: black;}#sk-container-id-16 div.sk-toggleable__content {max-height: 0;max-width: 0;overflow: hidden;text-align: left;background-color: #f0f8ff;}#sk-container-id-16 div.sk-toggleable__content pre {margin: 0.2em;color: black;border-radius: 0.25em;background-color: #f0f8ff;}#sk-container-id-16 input.sk-toggleable__control:checked~div.sk-toggleable__content {max-height: 200px;max-width: 100%;overflow: auto;}#sk-container-id-16 input.sk-toggleable__control:checked~label.sk-toggleable__label-arrow:before {content: \"▾\";}#sk-container-id-16 div.sk-estimator input.sk-toggleable__control:checked~label.sk-toggleable__label {background-color: #d4ebff;}#sk-container-id-16 div.sk-label input.sk-toggleable__control:checked~label.sk-toggleable__label {background-color: #d4ebff;}#sk-container-id-16 input.sk-hidden--visually {border: 0;clip: rect(1px 1px 1px 1px);clip: rect(1px, 1px, 1px, 1px);height: 1px;margin: -1px;overflow: hidden;padding: 0;position: absolute;width: 1px;}#sk-container-id-16 div.sk-estimator {font-family: monospace;background-color: #f0f8ff;border: 1px dotted black;border-radius: 0.25em;box-sizing: border-box;margin-bottom: 0.5em;}#sk-container-id-16 div.sk-estimator:hover {background-color: #d4ebff;}#sk-container-id-16 div.sk-parallel-item::after {content: \"\";width: 100%;border-bottom: 1px solid gray;flex-grow: 1;}#sk-container-id-16 div.sk-label:hover label.sk-toggleable__label {background-color: #d4ebff;}#sk-container-id-16 div.sk-serial::before {content: \"\";position: absolute;border-left: 1px solid gray;box-sizing: border-box;top: 0;bottom: 0;left: 50%;z-index: 0;}#sk-container-id-16 div.sk-serial {display: flex;flex-direction: column;align-items: center;background-color: white;padding-right: 0.2em;padding-left: 0.2em;position: relative;}#sk-container-id-16 div.sk-item {position: relative;z-index: 1;}#sk-container-id-16 div.sk-parallel {display: flex;align-items: stretch;justify-content: center;background-color: white;position: relative;}#sk-container-id-16 div.sk-item::before, #sk-container-id-16 div.sk-parallel-item::before {content: \"\";position: absolute;border-left: 1px solid gray;box-sizing: border-box;top: 0;bottom: 0;left: 50%;z-index: -1;}#sk-container-id-16 div.sk-parallel-item {display: flex;flex-direction: column;z-index: 1;position: relative;background-color: white;}#sk-container-id-16 div.sk-parallel-item:first-child::after {align-self: flex-end;width: 50%;}#sk-container-id-16 div.sk-parallel-item:last-child::after {align-self: flex-start;width: 50%;}#sk-container-id-16 div.sk-parallel-item:only-child::after {width: 0;}#sk-container-id-16 div.sk-dashed-wrapped {border: 1px dashed gray;margin: 0 0.4em 0.5em 0.4em;box-sizing: border-box;padding-bottom: 0.4em;background-color: white;}#sk-container-id-16 div.sk-label label {font-family: monospace;font-weight: bold;display: inline-block;line-height: 1.2em;}#sk-container-id-16 div.sk-label-container {text-align: center;}#sk-container-id-16 div.sk-container {/* jupyter's `normalize.less` sets `[hidden] { display: none; }` but bootstrap.min.css set `[hidden] { display: none !important; }` so we also need the `!important` here to be able to override the default hidden behavior on the sphinx rendered scikit-learn.org. See: https://github.com/scikit-learn/scikit-learn/issues/21755 */display: inline-block !important;position: relative;}#sk-container-id-16 div.sk-text-repr-fallback {display: none;}</style><div id=\"sk-container-id-16\" class=\"sk-top-container\"><div class=\"sk-text-repr-fallback\"><pre>RandomForestRegressor(random_state=42)</pre><b>In a Jupyter environment, please rerun this cell to show the HTML representation or trust the notebook. <br />On GitHub, the HTML representation is unable to render, please try loading this page with nbviewer.org.</b></div><div class=\"sk-container\" hidden><div class=\"sk-item\"><div class=\"sk-estimator sk-toggleable\"><input class=\"sk-toggleable__control sk-hidden--visually\" id=\"sk-estimator-id-16\" type=\"checkbox\" checked><label for=\"sk-estimator-id-16\" class=\"sk-toggleable__label sk-toggleable__label-arrow\">RandomForestRegressor</label><div class=\"sk-toggleable__content\"><pre>RandomForestRegressor(random_state=42)</pre></div></div></div></div></div>"
      ],
      "text/plain": [
       "RandomForestRegressor(random_state=42)"
      ]
     },
     "execution_count": 158,
     "metadata": {},
     "output_type": "execute_result"
    }
   ],
   "source": [
    "from sklearn.ensemble import RandomForestRegressor\n",
    "from sklearn.model_selection import train_test_split\n",
    "from sklearn.preprocessing import StandardScaler, OneHotEncoder\n",
    "\n",
    "#defining the features\n",
    "features = Merged_data[['Grades','Attendance','Homework_Completion','Classroom_Attention','Interaction_With_Peers','Discipline_Incidents','Hours_Per_Week']]\n",
    "\n",
    "#setting the target variable\n",
    "target = Merged_data['Avg_Grade']\n",
    "\n",
    "#splitting the data for training and testing\n",
    "X_train, x_test, Y_train, y_test = train_test_split(features, target, test_size= 0.2, random_state = 42)\n",
    "\n",
    "#feature scaling\n",
    "scaler = StandardScaler()\n",
    "X_train = scaler.fit_transform(X_train)\n",
    "x_test = scaler.transform(x_test)\n",
    "\n",
    "#training the model\n",
    "Std_Prog_model = RandomForestRegressor(n_estimators=100, random_state=42)\n",
    "Std_Prog_model.fit(X_train, Y_train)\n",
    "\n",
    "\n"
   ]
  },
  {
   "cell_type": "code",
   "execution_count": 159,
   "id": "8535ffbb-23d1-492d-85b9-705de44cac18",
   "metadata": {
    "tags": []
   },
   "outputs": [
    {
     "name": "stdout",
     "output_type": "stream",
     "text": [
      "mse: 0.35820278252978954\n",
      "r2: 0.9527360260613223\n"
     ]
    }
   ],
   "source": [
    "#Model Evaluation\n",
    "from sklearn.metrics import mean_squared_error, r2_score\n",
    "\n",
    "y_pred = Std_Prog_model.predict(x_test)\n",
    "\n",
    "mse = mean_squared_error(y_test, y_pred)\n",
    "r2 = r2_score(y_test, y_pred)\n",
    "\n",
    "print('mse:',mse)\n",
    "print('r2:',r2)\n",
    "\n"
   ]
  },
  {
   "cell_type": "code",
   "execution_count": 112,
   "id": "9e2d1bed-091f-41e5-a11e-9c215d24e319",
   "metadata": {
    "tags": []
   },
   "outputs": [],
   "source": [
    "# Feature importance\n",
    "#importances = model.feature_importances_\n",
    "#feature_names = features.columns\n",
    "#importance_df = pd.DataFrame({'Feature': feature_names, 'Importance': importances}).sort_values(by='Importance', ascending=False)\n",
    "\n",
    "#importance_df"
   ]
  },
  {
   "cell_type": "code",
   "execution_count": 164,
   "id": "50909e90-4382-4b57-8fa7-7092b9c2267e",
   "metadata": {
    "tags": []
   },
   "outputs": [
    {
     "name": "stdin",
     "output_type": "stream",
     "text": [
      "Enter the Student_ID:  7777\n"
     ]
    },
    {
     "name": "stdout",
     "output_type": "stream",
     "text": [
      "Enter the valid Student_ID.\n"
     ]
    }
   ],
   "source": [
    "#Visualizing the progress of a particular student\n",
    "import matplotlib.pyplot as plt\n",
    "\n",
    "#Function to get the data of a particular student and visualize using the Student_ID given by user\n",
    "def visualize_progress(student_id):\n",
    "    student_data = Merged_data[Merged_data['Student_ID'] == student_id]\n",
    "    if student_data.empty:\n",
    "        print(\"Enter the valid Student_ID.\")\n",
    "        return\n",
    "\n",
    "    # Extract components for the pie chart\n",
    "    grades = student_data['Grades'].values[0]\n",
    "    attendance = student_data['Attendance'].values[0]\n",
    "    homework_completion = student_data['Homework_Completion'].values[0]\n",
    "    classroom_attention = student_data['Classroom_Attention'].values[0]\n",
    "    interaction_with_peers = student_data['Interaction_With_Peers'].values[0]\n",
    "    discipline_incidents = student_data['Discipline_Incidents'].values[0]\n",
    "    hours_per_week = student_data['Hours_Per_Week'].values[0]\n",
    "\n",
    "    # Calculate the final grade\n",
    "    final_grade = student_data['Final_Grades'].values[0]\n",
    "\n",
    "    # Data for the pie chart\n",
    "    labels = ['Grades', 'Attendance', 'Homework Completion', 'Classroom Attention', \n",
    "              'Interaction with Peers', 'Discipline Incidents', 'Hours per Week']\n",
    "    sizes = [grades, attendance, homework_completion, classroom_attention, \n",
    "             interaction_with_peers, discipline_incidents, hours_per_week]\n",
    "    colors = ['#ff9999','#66b3ff','#99ff99','#ffcc99','#c2c2f0','#ffb3e6','#c4e17f']\n",
    "\n",
    "    # Create the pie chart\n",
    "    fig, ax = plt.subplots(figsize=(10, 7))\n",
    "    ax.pie(sizes, labels=labels, colors=colors, autopct='%1.1f%%', startangle=140)\n",
    "    ax.axis('equal')  \n",
    "\n",
    "    plt.title(f'Student {student_id} Performance Distribution')\n",
    "    plt.show()\n",
    "\n",
    "    # Create a scorecard\n",
    "    fig, ax = plt.subplots(figsize=(5, 3))\n",
    "    ax.text(0.5, 0.5, f'Final Grade: {final_grade}', horizontalalignment='center', \n",
    "            verticalalignment='center', fontsize=24, fontweight='bold', color='blue')\n",
    "    ax.axis('off')\n",
    "\n",
    "    plt.title(f'Student {student_id} Scorecard')\n",
    "    plt.show()\n",
    "\n",
    "# Ask the user to enter a Student_ID\n",
    "student_id = int(input(\"Enter the Student_ID: \"))\n",
    "visualize_progress(student_id)"
   ]
  },
  {
   "cell_type": "code",
   "execution_count": null,
   "id": "b5ea067a-55a4-4873-9f08-4d3b9e17d70c",
   "metadata": {},
   "outputs": [],
   "source": []
  }
 ],
 "metadata": {
  "kernelspec": {
   "display_name": "Python 3 (ipykernel)",
   "language": "python",
   "name": "python3"
  },
  "language_info": {
   "codemirror_mode": {
    "name": "ipython",
    "version": 3
   },
   "file_extension": ".py",
   "mimetype": "text/x-python",
   "name": "python",
   "nbconvert_exporter": "python",
   "pygments_lexer": "ipython3",
   "version": "3.11.5"
  }
 },
 "nbformat": 4,
 "nbformat_minor": 5
}
